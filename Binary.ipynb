{
 "cells": [
  {
   "cell_type": "code",
   "execution_count": 5,
   "id": "6b9a63a5-fd65-4a18-891e-a40f5260b552",
   "metadata": {},
   "outputs": [
    {
     "name": "stdout",
     "output_type": "stream",
     "text": [
      "Converted /home/rgautham20/MR/final_project/data2.jpeg to binary and saved as /home/rgautham20/MR/final_project/b_data2.png\n",
      "Converted /home/rgautham20/MR/final_project/data3.png to binary and saved as /home/rgautham20/MR/final_project/b_data3.png\n"
     ]
    }
   ],
   "source": [
    "from PIL import Image\n",
    "import numpy as np\n",
    "\n",
    "def convert_to_binary(image_path, output_path, threshold=128):\n",
    "    \"\"\"\n",
    "    Converts an image to binary (black and white) format.\n",
    "\n",
    "    Args:\n",
    "    - image_path: Path to the input image.\n",
    "    - output_path: Path to save the binary image.\n",
    "    - threshold: Threshold value for binarization (0-255).\n",
    "    \"\"\"\n",
    "    # Open the image and convert to grayscale\n",
    "    img = Image.open(image_path).convert('L')\n",
    "    \n",
    "    # Apply threshold to convert to binary\n",
    "    binary_img = img.point(lambda p: 255 if p > threshold else 0)\n",
    "    \n",
    "    # Save the binary image\n",
    "    binary_img.save(output_path)\n",
    "    print(f\"Converted {image_path} to binary and saved as {output_path}\")\n",
    "\n",
    "# Paths to the input images and output locations\n",
    "image1_path = '/home/rgautham20/MR/final_project/data2.jpeg'       # Replace with the actual path\n",
    "image2_path = '/home/rgautham20/MR/final_project/data3.png'       # Replace with the actual path\n",
    "output1_path = '/home/rgautham20/MR/final_project/b_data2.png'\n",
    "output2_path = '/home/rgautham20/MR/final_project/b_data3.png'\n",
    "\n",
    "# Convert both images\n",
    "convert_to_binary(image1_path, output1_path)\n",
    "convert_to_binary(image2_path, output2_path)\n"
   ]
  },
  {
   "cell_type": "code",
   "execution_count": null,
   "id": "03b17ac4-e984-470a-944a-783862be66d8",
   "metadata": {},
   "outputs": [],
   "source": []
  }
 ],
 "metadata": {
  "kernelspec": {
   "display_name": "Python 3 (ipykernel)",
   "language": "python",
   "name": "python3"
  },
  "language_info": {
   "codemirror_mode": {
    "name": "ipython",
    "version": 3
   },
   "file_extension": ".py",
   "mimetype": "text/x-python",
   "name": "python",
   "nbconvert_exporter": "python",
   "pygments_lexer": "ipython3",
   "version": "3.10.12"
  }
 },
 "nbformat": 4,
 "nbformat_minor": 5
}
